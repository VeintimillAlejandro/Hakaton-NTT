{
 "cells": [
  {
   "cell_type": "code",
   "execution_count": 379,
   "metadata": {},
   "outputs": [
    {
     "data": {
      "application/vnd.microsoft.datawrangler.viewer.v0+json": {
       "columns": [
        {
         "name": "index",
         "rawType": "int64",
         "type": "integer"
        },
        {
         "name": "age",
         "rawType": "int64",
         "type": "integer"
        },
        {
         "name": "workclass",
         "rawType": "object",
         "type": "string"
        },
        {
         "name": "fnlwgt",
         "rawType": "int64",
         "type": "integer"
        },
        {
         "name": "education",
         "rawType": "object",
         "type": "string"
        },
        {
         "name": "education.num",
         "rawType": "int64",
         "type": "integer"
        },
        {
         "name": "marital.status",
         "rawType": "object",
         "type": "string"
        },
        {
         "name": "occupation",
         "rawType": "object",
         "type": "string"
        },
        {
         "name": "relationship",
         "rawType": "object",
         "type": "string"
        },
        {
         "name": "race",
         "rawType": "object",
         "type": "string"
        },
        {
         "name": "sex",
         "rawType": "object",
         "type": "string"
        },
        {
         "name": "capital.gain",
         "rawType": "int64",
         "type": "integer"
        },
        {
         "name": "capital.loss",
         "rawType": "int64",
         "type": "integer"
        },
        {
         "name": "hours.per.week",
         "rawType": "int64",
         "type": "integer"
        },
        {
         "name": "native.country",
         "rawType": "object",
         "type": "string"
        },
        {
         "name": "income",
         "rawType": "object",
         "type": "string"
        }
       ],
       "conversionMethod": "pd.DataFrame",
       "ref": "865f8783-3915-4445-90e5-4fdf822d6d91",
       "rows": [
        [
         "0",
         "34",
         "Private",
         "209297",
         "HS-grad",
         "9",
         "Never-married",
         "Machine-op-inspct",
         "Not-in-family",
         "Black",
         "Male",
         "0",
         "2001",
         "40",
         "United-States",
         "<=50K"
        ],
        [
         "1",
         "32",
         "Private",
         "107417",
         "HS-grad",
         "9",
         "Never-married",
         "Other-service",
         "Not-in-family",
         "White",
         "Male",
         "0",
         "0",
         "37",
         "United-States",
         "<=50K"
        ],
        [
         "2",
         "59",
         "Local-gov",
         "296253",
         "Masters",
         "14",
         "Divorced",
         "Prof-specialty",
         "Unmarried",
         "White",
         "Female",
         "8614",
         "0",
         "60",
         "United-States",
         ">50K"
        ],
        [
         "3",
         "44",
         "Federal-gov",
         "102238",
         "HS-grad",
         "9",
         "Divorced",
         "Craft-repair",
         "Unmarried",
         "White",
         "Male",
         "0",
         "0",
         "40",
         "United-States",
         "<=50K"
        ],
        [
         "4",
         "27",
         "?",
         "190650",
         "Bachelors",
         "13",
         "Never-married",
         "?",
         "Unmarried",
         "Asian-Pac-Islander",
         "Male",
         "0",
         "0",
         "25",
         "Philippines",
         "<=50K"
        ]
       ],
       "shape": {
        "columns": 15,
        "rows": 5
       }
      },
      "text/html": [
       "<div>\n",
       "<style scoped>\n",
       "    .dataframe tbody tr th:only-of-type {\n",
       "        vertical-align: middle;\n",
       "    }\n",
       "\n",
       "    .dataframe tbody tr th {\n",
       "        vertical-align: top;\n",
       "    }\n",
       "\n",
       "    .dataframe thead th {\n",
       "        text-align: right;\n",
       "    }\n",
       "</style>\n",
       "<table border=\"1\" class=\"dataframe\">\n",
       "  <thead>\n",
       "    <tr style=\"text-align: right;\">\n",
       "      <th></th>\n",
       "      <th>age</th>\n",
       "      <th>workclass</th>\n",
       "      <th>fnlwgt</th>\n",
       "      <th>education</th>\n",
       "      <th>education.num</th>\n",
       "      <th>marital.status</th>\n",
       "      <th>occupation</th>\n",
       "      <th>relationship</th>\n",
       "      <th>race</th>\n",
       "      <th>sex</th>\n",
       "      <th>capital.gain</th>\n",
       "      <th>capital.loss</th>\n",
       "      <th>hours.per.week</th>\n",
       "      <th>native.country</th>\n",
       "      <th>income</th>\n",
       "    </tr>\n",
       "  </thead>\n",
       "  <tbody>\n",
       "    <tr>\n",
       "      <th>0</th>\n",
       "      <td>34</td>\n",
       "      <td>Private</td>\n",
       "      <td>209297</td>\n",
       "      <td>HS-grad</td>\n",
       "      <td>9</td>\n",
       "      <td>Never-married</td>\n",
       "      <td>Machine-op-inspct</td>\n",
       "      <td>Not-in-family</td>\n",
       "      <td>Black</td>\n",
       "      <td>Male</td>\n",
       "      <td>0</td>\n",
       "      <td>2001</td>\n",
       "      <td>40</td>\n",
       "      <td>United-States</td>\n",
       "      <td>&lt;=50K</td>\n",
       "    </tr>\n",
       "    <tr>\n",
       "      <th>1</th>\n",
       "      <td>32</td>\n",
       "      <td>Private</td>\n",
       "      <td>107417</td>\n",
       "      <td>HS-grad</td>\n",
       "      <td>9</td>\n",
       "      <td>Never-married</td>\n",
       "      <td>Other-service</td>\n",
       "      <td>Not-in-family</td>\n",
       "      <td>White</td>\n",
       "      <td>Male</td>\n",
       "      <td>0</td>\n",
       "      <td>0</td>\n",
       "      <td>37</td>\n",
       "      <td>United-States</td>\n",
       "      <td>&lt;=50K</td>\n",
       "    </tr>\n",
       "    <tr>\n",
       "      <th>2</th>\n",
       "      <td>59</td>\n",
       "      <td>Local-gov</td>\n",
       "      <td>296253</td>\n",
       "      <td>Masters</td>\n",
       "      <td>14</td>\n",
       "      <td>Divorced</td>\n",
       "      <td>Prof-specialty</td>\n",
       "      <td>Unmarried</td>\n",
       "      <td>White</td>\n",
       "      <td>Female</td>\n",
       "      <td>8614</td>\n",
       "      <td>0</td>\n",
       "      <td>60</td>\n",
       "      <td>United-States</td>\n",
       "      <td>&gt;50K</td>\n",
       "    </tr>\n",
       "    <tr>\n",
       "      <th>3</th>\n",
       "      <td>44</td>\n",
       "      <td>Federal-gov</td>\n",
       "      <td>102238</td>\n",
       "      <td>HS-grad</td>\n",
       "      <td>9</td>\n",
       "      <td>Divorced</td>\n",
       "      <td>Craft-repair</td>\n",
       "      <td>Unmarried</td>\n",
       "      <td>White</td>\n",
       "      <td>Male</td>\n",
       "      <td>0</td>\n",
       "      <td>0</td>\n",
       "      <td>40</td>\n",
       "      <td>United-States</td>\n",
       "      <td>&lt;=50K</td>\n",
       "    </tr>\n",
       "    <tr>\n",
       "      <th>4</th>\n",
       "      <td>27</td>\n",
       "      <td>?</td>\n",
       "      <td>190650</td>\n",
       "      <td>Bachelors</td>\n",
       "      <td>13</td>\n",
       "      <td>Never-married</td>\n",
       "      <td>?</td>\n",
       "      <td>Unmarried</td>\n",
       "      <td>Asian-Pac-Islander</td>\n",
       "      <td>Male</td>\n",
       "      <td>0</td>\n",
       "      <td>0</td>\n",
       "      <td>25</td>\n",
       "      <td>Philippines</td>\n",
       "      <td>&lt;=50K</td>\n",
       "    </tr>\n",
       "  </tbody>\n",
       "</table>\n",
       "</div>"
      ],
      "text/plain": [
       "   age    workclass  fnlwgt  education  education.num marital.status  \\\n",
       "0   34      Private  209297    HS-grad              9  Never-married   \n",
       "1   32      Private  107417    HS-grad              9  Never-married   \n",
       "2   59    Local-gov  296253    Masters             14       Divorced   \n",
       "3   44  Federal-gov  102238    HS-grad              9       Divorced   \n",
       "4   27            ?  190650  Bachelors             13  Never-married   \n",
       "\n",
       "          occupation   relationship                race     sex  capital.gain  \\\n",
       "0  Machine-op-inspct  Not-in-family               Black    Male             0   \n",
       "1      Other-service  Not-in-family               White    Male             0   \n",
       "2     Prof-specialty      Unmarried               White  Female          8614   \n",
       "3       Craft-repair      Unmarried               White    Male             0   \n",
       "4                  ?      Unmarried  Asian-Pac-Islander    Male             0   \n",
       "\n",
       "   capital.loss  hours.per.week native.country income  \n",
       "0          2001              40  United-States  <=50K  \n",
       "1             0              37  United-States  <=50K  \n",
       "2             0              60  United-States   >50K  \n",
       "3             0              40  United-States  <=50K  \n",
       "4             0              25    Philippines  <=50K  "
      ]
     },
     "execution_count": 379,
     "metadata": {},
     "output_type": "execute_result"
    }
   ],
   "source": [
    "import pandas as pd\n",
    "import seaborn as sns\n",
    "import matplotlib.pyplot as plt\n",
    "\n",
    "# Read the CSV file into a DataFrame\n",
    "df = pd.read_csv('data/data.csv')\n",
    "df.drop(columns=['Unnamed: 0'], inplace=True)\n",
    "# Display the first few rows of the DataFrame\n",
    "df.head()"
   ]
  },
  {
   "cell_type": "code",
   "execution_count": 380,
   "metadata": {},
   "outputs": [
    {
     "name": "stderr",
     "output_type": "stream",
     "text": [
      "C:\\Users\\veint\\AppData\\Local\\Temp\\ipykernel_1936\\2492541123.py:3: FutureWarning: Downcasting behavior in `replace` is deprecated and will be removed in a future version. To retain the old behavior, explicitly call `result.infer_objects(copy=False)`. To opt-in to the future behavior, set `pd.set_option('future.no_silent_downcasting', True)`\n",
      "  df['income'] = df['income'].replace({'<=50K': 0, '>50K': 1})\n"
     ]
    },
    {
     "data": {
      "application/vnd.microsoft.datawrangler.viewer.v0+json": {
       "columns": [
        {
         "name": "index",
         "rawType": "int64",
         "type": "integer"
        },
        {
         "name": "age",
         "rawType": "int64",
         "type": "integer"
        },
        {
         "name": "workclass",
         "rawType": "object",
         "type": "string"
        },
        {
         "name": "weight",
         "rawType": "int64",
         "type": "integer"
        },
        {
         "name": "education",
         "rawType": "object",
         "type": "string"
        },
        {
         "name": "education.years",
         "rawType": "int64",
         "type": "integer"
        },
        {
         "name": "marital.status",
         "rawType": "object",
         "type": "string"
        },
        {
         "name": "occupation",
         "rawType": "object",
         "type": "string"
        },
        {
         "name": "relationship",
         "rawType": "object",
         "type": "string"
        },
        {
         "name": "race",
         "rawType": "object",
         "type": "string"
        },
        {
         "name": "sex",
         "rawType": "object",
         "type": "string"
        },
        {
         "name": "capital.gain",
         "rawType": "int64",
         "type": "integer"
        },
        {
         "name": "capital.loss",
         "rawType": "int64",
         "type": "integer"
        },
        {
         "name": "hours.per.week",
         "rawType": "int64",
         "type": "integer"
        },
        {
         "name": "native.country",
         "rawType": "object",
         "type": "string"
        },
        {
         "name": "income",
         "rawType": "int64",
         "type": "integer"
        }
       ],
       "conversionMethod": "pd.DataFrame",
       "ref": "2f2966a0-e155-4f32-bbbb-cfdb344a554b",
       "rows": [
        [
         "0",
         "34",
         "Private",
         "209297",
         "HS-grad",
         "9",
         "Never-married",
         "Machine-op-inspct",
         "Not-in-family",
         "Black",
         "Male",
         "0",
         "2001",
         "40",
         "United-States",
         "0"
        ],
        [
         "1",
         "32",
         "Private",
         "107417",
         "HS-grad",
         "9",
         "Never-married",
         "Other-service",
         "Not-in-family",
         "White",
         "Male",
         "0",
         "0",
         "37",
         "United-States",
         "0"
        ],
        [
         "2",
         "59",
         "Local-gov",
         "296253",
         "Masters",
         "14",
         "Divorced",
         "Prof-specialty",
         "Unmarried",
         "White",
         "Female",
         "8614",
         "0",
         "60",
         "United-States",
         "1"
        ],
        [
         "3",
         "44",
         "Federal-gov",
         "102238",
         "HS-grad",
         "9",
         "Divorced",
         "Craft-repair",
         "Unmarried",
         "White",
         "Male",
         "0",
         "0",
         "40",
         "United-States",
         "0"
        ],
        [
         "4",
         "27",
         "?",
         "190650",
         "Bachelors",
         "13",
         "Never-married",
         "?",
         "Unmarried",
         "Asian-Pac-Islander",
         "Male",
         "0",
         "0",
         "25",
         "Philippines",
         "0"
        ]
       ],
       "shape": {
        "columns": 15,
        "rows": 5
       }
      },
      "text/html": [
       "<div>\n",
       "<style scoped>\n",
       "    .dataframe tbody tr th:only-of-type {\n",
       "        vertical-align: middle;\n",
       "    }\n",
       "\n",
       "    .dataframe tbody tr th {\n",
       "        vertical-align: top;\n",
       "    }\n",
       "\n",
       "    .dataframe thead th {\n",
       "        text-align: right;\n",
       "    }\n",
       "</style>\n",
       "<table border=\"1\" class=\"dataframe\">\n",
       "  <thead>\n",
       "    <tr style=\"text-align: right;\">\n",
       "      <th></th>\n",
       "      <th>age</th>\n",
       "      <th>workclass</th>\n",
       "      <th>weight</th>\n",
       "      <th>education</th>\n",
       "      <th>education.years</th>\n",
       "      <th>marital.status</th>\n",
       "      <th>occupation</th>\n",
       "      <th>relationship</th>\n",
       "      <th>race</th>\n",
       "      <th>sex</th>\n",
       "      <th>capital.gain</th>\n",
       "      <th>capital.loss</th>\n",
       "      <th>hours.per.week</th>\n",
       "      <th>native.country</th>\n",
       "      <th>income</th>\n",
       "    </tr>\n",
       "  </thead>\n",
       "  <tbody>\n",
       "    <tr>\n",
       "      <th>0</th>\n",
       "      <td>34</td>\n",
       "      <td>Private</td>\n",
       "      <td>209297</td>\n",
       "      <td>HS-grad</td>\n",
       "      <td>9</td>\n",
       "      <td>Never-married</td>\n",
       "      <td>Machine-op-inspct</td>\n",
       "      <td>Not-in-family</td>\n",
       "      <td>Black</td>\n",
       "      <td>Male</td>\n",
       "      <td>0</td>\n",
       "      <td>2001</td>\n",
       "      <td>40</td>\n",
       "      <td>United-States</td>\n",
       "      <td>0</td>\n",
       "    </tr>\n",
       "    <tr>\n",
       "      <th>1</th>\n",
       "      <td>32</td>\n",
       "      <td>Private</td>\n",
       "      <td>107417</td>\n",
       "      <td>HS-grad</td>\n",
       "      <td>9</td>\n",
       "      <td>Never-married</td>\n",
       "      <td>Other-service</td>\n",
       "      <td>Not-in-family</td>\n",
       "      <td>White</td>\n",
       "      <td>Male</td>\n",
       "      <td>0</td>\n",
       "      <td>0</td>\n",
       "      <td>37</td>\n",
       "      <td>United-States</td>\n",
       "      <td>0</td>\n",
       "    </tr>\n",
       "    <tr>\n",
       "      <th>2</th>\n",
       "      <td>59</td>\n",
       "      <td>Local-gov</td>\n",
       "      <td>296253</td>\n",
       "      <td>Masters</td>\n",
       "      <td>14</td>\n",
       "      <td>Divorced</td>\n",
       "      <td>Prof-specialty</td>\n",
       "      <td>Unmarried</td>\n",
       "      <td>White</td>\n",
       "      <td>Female</td>\n",
       "      <td>8614</td>\n",
       "      <td>0</td>\n",
       "      <td>60</td>\n",
       "      <td>United-States</td>\n",
       "      <td>1</td>\n",
       "    </tr>\n",
       "    <tr>\n",
       "      <th>3</th>\n",
       "      <td>44</td>\n",
       "      <td>Federal-gov</td>\n",
       "      <td>102238</td>\n",
       "      <td>HS-grad</td>\n",
       "      <td>9</td>\n",
       "      <td>Divorced</td>\n",
       "      <td>Craft-repair</td>\n",
       "      <td>Unmarried</td>\n",
       "      <td>White</td>\n",
       "      <td>Male</td>\n",
       "      <td>0</td>\n",
       "      <td>0</td>\n",
       "      <td>40</td>\n",
       "      <td>United-States</td>\n",
       "      <td>0</td>\n",
       "    </tr>\n",
       "    <tr>\n",
       "      <th>4</th>\n",
       "      <td>27</td>\n",
       "      <td>?</td>\n",
       "      <td>190650</td>\n",
       "      <td>Bachelors</td>\n",
       "      <td>13</td>\n",
       "      <td>Never-married</td>\n",
       "      <td>?</td>\n",
       "      <td>Unmarried</td>\n",
       "      <td>Asian-Pac-Islander</td>\n",
       "      <td>Male</td>\n",
       "      <td>0</td>\n",
       "      <td>0</td>\n",
       "      <td>25</td>\n",
       "      <td>Philippines</td>\n",
       "      <td>0</td>\n",
       "    </tr>\n",
       "  </tbody>\n",
       "</table>\n",
       "</div>"
      ],
      "text/plain": [
       "   age    workclass  weight  education  education.years marital.status  \\\n",
       "0   34      Private  209297    HS-grad                9  Never-married   \n",
       "1   32      Private  107417    HS-grad                9  Never-married   \n",
       "2   59    Local-gov  296253    Masters               14       Divorced   \n",
       "3   44  Federal-gov  102238    HS-grad                9       Divorced   \n",
       "4   27            ?  190650  Bachelors               13  Never-married   \n",
       "\n",
       "          occupation   relationship                race     sex  capital.gain  \\\n",
       "0  Machine-op-inspct  Not-in-family               Black    Male             0   \n",
       "1      Other-service  Not-in-family               White    Male             0   \n",
       "2     Prof-specialty      Unmarried               White  Female          8614   \n",
       "3       Craft-repair      Unmarried               White    Male             0   \n",
       "4                  ?      Unmarried  Asian-Pac-Islander    Male             0   \n",
       "\n",
       "   capital.loss  hours.per.week native.country  income  \n",
       "0          2001              40  United-States       0  \n",
       "1             0              37  United-States       0  \n",
       "2             0              60  United-States       1  \n",
       "3             0              40  United-States       0  \n",
       "4             0              25    Philippines       0  "
      ]
     },
     "execution_count": 380,
     "metadata": {},
     "output_type": "execute_result"
    }
   ],
   "source": [
    "df.rename(columns={'fnlwgt': 'weight'}, inplace=True)\n",
    "df.rename(columns={'education.num': 'education.years'}, inplace=True)\n",
    "df['income'] = df['income'].replace({'<=50K': 0, '>50K': 1})\n",
    "df.head()"
   ]
  },
  {
   "cell_type": "code",
   "execution_count": 381,
   "metadata": {},
   "outputs": [
    {
     "name": "stdout",
     "output_type": "stream",
     "text": [
      "                age        weight  education.years  capital.gain  \\\n",
      "count  29305.000000  2.930500e+04     29305.000000  29305.000000   \n",
      "mean      38.585873  1.896250e+05        10.086402   1068.362395   \n",
      "std       13.631880  1.055207e+05         2.571243   7354.283789   \n",
      "min       17.000000  1.228500e+04         1.000000      0.000000   \n",
      "25%       28.000000  1.178330e+05         9.000000      0.000000   \n",
      "50%       37.000000  1.783830e+05        10.000000      0.000000   \n",
      "75%       48.000000  2.369070e+05        12.000000      0.000000   \n",
      "max       90.000000  1.484705e+06        16.000000  99999.000000   \n",
      "\n",
      "       capital.loss  hours.per.week        income  \n",
      "count  29305.000000    29305.000000  29305.000000  \n",
      "mean      87.359154       40.440676      0.241597  \n",
      "std      403.544373       12.347421      0.428059  \n",
      "min        0.000000        1.000000      0.000000  \n",
      "25%        0.000000       40.000000      0.000000  \n",
      "50%        0.000000       40.000000      0.000000  \n",
      "75%        0.000000       45.000000      0.000000  \n",
      "max     4356.000000       99.000000      1.000000  \n"
     ]
    }
   ],
   "source": [
    "# Display statistical summary for numerical columns\n",
    "numerical_summary = df.describe()\n",
    "print(numerical_summary)"
   ]
  },
  {
   "cell_type": "code",
   "execution_count": 382,
   "metadata": {},
   "outputs": [
    {
     "name": "stdout",
     "output_type": "stream",
     "text": [
      "Distribution of workclass:\n",
      "workclass\n",
      "Private             20417\n",
      "Self-emp-not-inc     2304\n",
      "Local-gov            1890\n",
      "?                    1641\n",
      "State-gov            1155\n",
      "Self-emp-inc         1013\n",
      "Federal-gov           865\n",
      "Without-pay            13\n",
      "Never-worked            7\n",
      "Name: count, dtype: int64\n",
      "\n",
      "\n",
      "Distribution of education:\n",
      "education\n",
      "HS-grad         9430\n",
      "Some-college    6583\n",
      "Bachelors       4834\n",
      "Masters         1549\n",
      "Assoc-voc       1248\n",
      "11th            1060\n",
      "Assoc-acdm       963\n",
      "10th             821\n",
      "7th-8th          570\n",
      "Prof-school      518\n",
      "9th              463\n",
      "12th             388\n",
      "Doctorate        374\n",
      "5th-6th          307\n",
      "1st-4th          153\n",
      "Preschool         44\n",
      "Name: count, dtype: int64\n",
      "\n",
      "\n",
      "Distribution of marital.status:\n",
      "marital.status\n",
      "Married-civ-spouse       13483\n",
      "Never-married             9576\n",
      "Divorced                  4020\n",
      "Separated                  926\n",
      "Widowed                    905\n",
      "Married-spouse-absent      376\n",
      "Married-AF-spouse           19\n",
      "Name: count, dtype: int64\n",
      "\n",
      "\n",
      "Distribution of occupation:\n",
      "occupation\n",
      "Prof-specialty       3723\n",
      "Craft-repair         3682\n",
      "Exec-managerial      3673\n",
      "Adm-clerical         3386\n",
      "Sales                3289\n",
      "Other-service        2971\n",
      "Machine-op-inspct    1809\n",
      "?                    1648\n",
      "Transport-moving     1443\n",
      "Handlers-cleaners    1218\n",
      "Farming-fishing       889\n",
      "Tech-support          846\n",
      "Protective-serv       593\n",
      "Priv-house-serv       127\n",
      "Armed-Forces            8\n",
      "Name: count, dtype: int64\n",
      "\n",
      "\n",
      "Distribution of relationship:\n",
      "relationship\n",
      "Husband           11894\n",
      "Not-in-family      7467\n",
      "Own-child          4553\n",
      "Unmarried          3123\n",
      "Wife               1396\n",
      "Other-relative      872\n",
      "Name: count, dtype: int64\n",
      "\n",
      "\n",
      "Distribution of race:\n",
      "race\n",
      "White                 25062\n",
      "Black                  2791\n",
      "Asian-Pac-Islander      927\n",
      "Amer-Indian-Eskimo      274\n",
      "Other                   251\n",
      "Name: count, dtype: int64\n",
      "\n",
      "\n",
      "Distribution of sex:\n",
      "sex\n",
      "Male      19603\n",
      "Female     9702\n",
      "Name: count, dtype: int64\n",
      "\n",
      "\n",
      "Distribution of native.country:\n",
      "native.country\n",
      "United-States                 26243\n",
      "Mexico                          574\n",
      "?                               524\n",
      "Philippines                     180\n",
      "Germany                         123\n",
      "Canada                          110\n",
      "Puerto-Rico                     106\n",
      "El-Salvador                      98\n",
      "India                            94\n",
      "Cuba                             87\n",
      "England                          80\n",
      "Jamaica                          73\n",
      "South                            70\n",
      "Dominican-Republic               65\n",
      "China                            64\n",
      "Italy                            63\n",
      "Guatemala                        61\n",
      "Vietnam                          59\n",
      "Columbia                         56\n",
      "Japan                            55\n",
      "Poland                           54\n",
      "Taiwan                           46\n",
      "Iran                             40\n",
      "Haiti                            36\n",
      "Portugal                         35\n",
      "Nicaragua                        30\n",
      "Peru                             29\n",
      "Ecuador                          27\n",
      "Greece                           26\n",
      "France                           25\n",
      "Ireland                          21\n",
      "Cambodia                         19\n",
      "Hong                             18\n",
      "Thailand                         18\n",
      "Trinadad&Tobago                  17\n",
      "Laos                             16\n",
      "Yugoslavia                       16\n",
      "Honduras                         13\n",
      "Outlying-US(Guam-USVI-etc)       12\n",
      "Hungary                          11\n",
      "Scotland                         10\n",
      "Holand-Netherlands                1\n",
      "Name: count, dtype: int64\n",
      "\n",
      "\n"
     ]
    }
   ],
   "source": [
    "# List of categorical columns\n",
    "categorical_columns = ['workclass', 'education', 'marital.status', 'occupation', 'relationship', 'race', 'sex', 'native.country']\n",
    "\n",
    "# Display the distribution of each categorical variable\n",
    "for column in categorical_columns:\n",
    "    print(f\"Distribution of {column}:\")\n",
    "    print(df[column].value_counts())\n",
    "    print(\"\\n\")"
   ]
  },
  {
   "cell_type": "code",
   "execution_count": 383,
   "metadata": {},
   "outputs": [
    {
     "name": "stdout",
     "output_type": "stream",
     "text": [
      "age                2145\n",
      "workclass          2145\n",
      "weight             2145\n",
      "education          2145\n",
      "education.years    2145\n",
      "marital.status     2145\n",
      "occupation         2145\n",
      "relationship       2145\n",
      "race               2145\n",
      "sex                2145\n",
      "capital.gain       2145\n",
      "capital.loss       2145\n",
      "hours.per.week     2145\n",
      "native.country     2145\n",
      "income             2145\n",
      "dtype: int64\n"
     ]
    }
   ],
   "source": [
    "df_inter = df[(df.isin(['?']).any(axis=1))]\n",
    "print(df_inter.count())"
   ]
  },
  {
   "cell_type": "code",
   "execution_count": 384,
   "metadata": {},
   "outputs": [
    {
     "name": "stdout",
     "output_type": "stream",
     "text": [
      "age                2134\n",
      "workclass          2134\n",
      "weight             2134\n",
      "education          2134\n",
      "education.years    2134\n",
      "marital.status     2134\n",
      "occupation         2134\n",
      "relationship       2134\n",
      "race               2134\n",
      "sex                2134\n",
      "capital.gain       2134\n",
      "capital.loss       2134\n",
      "hours.per.week     2134\n",
      "native.country     2134\n",
      "income             2134\n",
      "dtype: int64\n"
     ]
    }
   ],
   "source": [
    "filtered_rows = df[(df.isin(['?']).any(axis=1)) & (df['weight'] < 0.6e+06)]\n",
    "print(filtered_rows.count())"
   ]
  },
  {
   "cell_type": "code",
   "execution_count": 385,
   "metadata": {},
   "outputs": [
    {
     "data": {
      "text/plain": [
       "4        190650\n",
       "9        263970\n",
       "19       431861\n",
       "31       405684\n",
       "38       195767\n",
       "          ...  \n",
       "29239     28929\n",
       "29262    240857\n",
       "29289    161290\n",
       "29301    224361\n",
       "29302    251659\n",
       "Name: weight, Length: 2134, dtype: int64"
      ]
     },
     "execution_count": 385,
     "metadata": {},
     "output_type": "execute_result"
    }
   ],
   "source": [
    "filtered_rows[\"weight\"]"
   ]
  },
  {
   "cell_type": "code",
   "execution_count": 386,
   "metadata": {},
   "outputs": [
    {
     "data": {
      "image/png": "[encoded data removed]",
      "text/plain": [
       "<Figure size 1000x600 with 1 Axes>"
      ]
     },
     "metadata": {},
     "output_type": "display_data"
    }
   ],
   "source": [
    "# Create a distribution plot for the variable 'weight'\n",
    "plt.figure(figsize=(10, 6))\n",
    "sns.histplot(df['weight'], bins=30, kde=True)\n",
    "plt.title('Distribution of Weight')\n",
    "plt.xlabel('Weight')\n",
    "plt.ylabel('Frequency')\n",
    "plt.show()"
   ]
  },
  {
   "cell_type": "code",
   "execution_count": 387,
   "metadata": {},
   "outputs": [
    {
     "data": {
      "image/png": "[encoded data removed]",
      "text/plain": [
       "<Figure size 1000x600 with 1 Axes>"
      ]
     },
     "metadata": {},
     "output_type": "display_data"
    }
   ],
   "source": [
    "# Create a distribution plot for the variable 'weight'\n",
    "plt.figure(figsize=(10, 6))\n",
    "sns.histplot(df_inter['weight'], bins=30, kde=True)\n",
    "plt.title('Distribution of Weight')\n",
    "plt.xlabel('Weight')\n",
    "plt.ylabel('Frequency')\n",
    "plt.show()"
   ]
  },
  {
   "cell_type": "code",
   "execution_count": 388,
   "metadata": {},
   "outputs": [
    {
     "data": {
      "application/vnd.microsoft.datawrangler.viewer.v0+json": {
       "columns": [
        {
         "name": "index",
         "rawType": "int64",
         "type": "integer"
        },
        {
         "name": "age",
         "rawType": "int64",
         "type": "integer"
        },
        {
         "name": "workclass",
         "rawType": "object",
         "type": "string"
        },
        {
         "name": "weight",
         "rawType": "int64",
         "type": "integer"
        },
        {
         "name": "education",
         "rawType": "object",
         "type": "string"
        },
        {
         "name": "education.years",
         "rawType": "int64",
         "type": "integer"
        },
        {
         "name": "marital.status",
         "rawType": "object",
         "type": "string"
        },
        {
         "name": "occupation",
         "rawType": "object",
         "type": "string"
        },
        {
         "name": "relationship",
         "rawType": "object",
         "type": "string"
        },
        {
         "name": "race",
         "rawType": "object",
         "type": "string"
        },
        {
         "name": "sex",
         "rawType": "object",
         "type": "string"
        },
        {
         "name": "capital.gain",
         "rawType": "int64",
         "type": "integer"
        },
        {
         "name": "capital.loss",
         "rawType": "int64",
         "type": "integer"
        },
        {
         "name": "hours.per.week",
         "rawType": "int64",
         "type": "integer"
        },
        {
         "name": "native.country",
         "rawType": "object",
         "type": "string"
        },
        {
         "name": "income",
         "rawType": "int64",
         "type": "integer"
        }
       ],
       "conversionMethod": "pd.DataFrame",
       "ref": "e33c7e67-4002-49b6-975e-2cb97f1bfe5b",
       "rows": [
        [
         "0",
         "34",
         "Private",
         "209297",
         "HS-grad",
         "9",
         "Never-married",
         "Machine-op-inspct",
         "Not-in-family",
         "Black",
         "Male",
         "0",
         "2001",
         "40",
         "United-States",
         "0"
        ],
        [
         "1",
         "32",
         "Private",
         "107417",
         "HS-grad",
         "9",
         "Never-married",
         "Other-service",
         "Not-in-family",
         "White",
         "Male",
         "0",
         "0",
         "37",
         "United-States",
         "0"
        ],
        [
         "2",
         "59",
         "Local-gov",
         "296253",
         "Masters",
         "14",
         "Divorced",
         "Prof-specialty",
         "Unmarried",
         "White",
         "Female",
         "8614",
         "0",
         "60",
         "United-States",
         "1"
        ],
        [
         "3",
         "44",
         "Federal-gov",
         "102238",
         "HS-grad",
         "9",
         "Divorced",
         "Craft-repair",
         "Unmarried",
         "White",
         "Male",
         "0",
         "0",
         "40",
         "United-States",
         "0"
        ],
        [
         "4",
         "43",
         "Local-gov",
         "163434",
         "Bachelors",
         "13",
         "Married-civ-spouse",
         "Protective-serv",
         "Husband",
         "White",
         "Male",
         "0",
         "0",
         "55",
         "United-States",
         "1"
        ]
       ],
       "shape": {
        "columns": 15,
        "rows": 5
       }
      },
      "text/html": [
       "<div>\n",
       "<style scoped>\n",
       "    .dataframe tbody tr th:only-of-type {\n",
       "        vertical-align: middle;\n",
       "    }\n",
       "\n",
       "    .dataframe tbody tr th {\n",
       "        vertical-align: top;\n",
       "    }\n",
       "\n",
       "    .dataframe thead th {\n",
       "        text-align: right;\n",
       "    }\n",
       "</style>\n",
       "<table border=\"1\" class=\"dataframe\">\n",
       "  <thead>\n",
       "    <tr style=\"text-align: right;\">\n",
       "      <th></th>\n",
       "      <th>age</th>\n",
       "      <th>workclass</th>\n",
       "      <th>weight</th>\n",
       "      <th>education</th>\n",
       "      <th>education.years</th>\n",
       "      <th>marital.status</th>\n",
       "      <th>occupation</th>\n",
       "      <th>relationship</th>\n",
       "      <th>race</th>\n",
       "      <th>sex</th>\n",
       "      <th>capital.gain</th>\n",
       "      <th>capital.loss</th>\n",
       "      <th>hours.per.week</th>\n",
       "      <th>native.country</th>\n",
       "      <th>income</th>\n",
       "    </tr>\n",
       "  </thead>\n",
       "  <tbody>\n",
       "    <tr>\n",
       "      <th>0</th>\n",
       "      <td>34</td>\n",
       "      <td>Private</td>\n",
       "      <td>209297</td>\n",
       "      <td>HS-grad</td>\n",
       "      <td>9</td>\n",
       "      <td>Never-married</td>\n",
       "      <td>Machine-op-inspct</td>\n",
       "      <td>Not-in-family</td>\n",
       "      <td>Black</td>\n",
       "      <td>Male</td>\n",
       "      <td>0</td>\n",
       "      <td>2001</td>\n",
       "      <td>40</td>\n",
       "      <td>United-States</td>\n",
       "      <td>0</td>\n",
       "    </tr>\n",
       "    <tr>\n",
       "      <th>1</th>\n",
       "      <td>32</td>\n",
       "      <td>Private</td>\n",
       "      <td>107417</td>\n",
       "      <td>HS-grad</td>\n",
       "      <td>9</td>\n",
       "      <td>Never-married</td>\n",
       "      <td>Other-service</td>\n",
       "      <td>Not-in-family</td>\n",
       "      <td>White</td>\n",
       "      <td>Male</td>\n",
       "      <td>0</td>\n",
       "      <td>0</td>\n",
       "      <td>37</td>\n",
       "      <td>United-States</td>\n",
       "      <td>0</td>\n",
       "    </tr>\n",
       "    <tr>\n",
       "      <th>2</th>\n",
       "      <td>59</td>\n",
       "      <td>Local-gov</td>\n",
       "      <td>296253</td>\n",
       "      <td>Masters</td>\n",
       "      <td>14</td>\n",
       "      <td>Divorced</td>\n",
       "      <td>Prof-specialty</td>\n",
       "      <td>Unmarried</td>\n",
       "      <td>White</td>\n",
       "      <td>Female</td>\n",
       "      <td>8614</td>\n",
       "      <td>0</td>\n",
       "      <td>60</td>\n",
       "      <td>United-States</td>\n",
       "      <td>1</td>\n",
       "    </tr>\n",
       "    <tr>\n",
       "      <th>3</th>\n",
       "      <td>44</td>\n",
       "      <td>Federal-gov</td>\n",
       "      <td>102238</td>\n",
       "      <td>HS-grad</td>\n",
       "      <td>9</td>\n",
       "      <td>Divorced</td>\n",
       "      <td>Craft-repair</td>\n",
       "      <td>Unmarried</td>\n",
       "      <td>White</td>\n",
       "      <td>Male</td>\n",
       "      <td>0</td>\n",
       "      <td>0</td>\n",
       "      <td>40</td>\n",
       "      <td>United-States</td>\n",
       "      <td>0</td>\n",
       "    </tr>\n",
       "    <tr>\n",
       "      <th>4</th>\n",
       "      <td>43</td>\n",
       "      <td>Local-gov</td>\n",
       "      <td>163434</td>\n",
       "      <td>Bachelors</td>\n",
       "      <td>13</td>\n",
       "      <td>Married-civ-spouse</td>\n",
       "      <td>Protective-serv</td>\n",
       "      <td>Husband</td>\n",
       "      <td>White</td>\n",
       "      <td>Male</td>\n",
       "      <td>0</td>\n",
       "      <td>0</td>\n",
       "      <td>55</td>\n",
       "      <td>United-States</td>\n",
       "      <td>1</td>\n",
       "    </tr>\n",
       "  </tbody>\n",
       "</table>\n",
       "</div>"
      ],
      "text/plain": [
       "   age    workclass  weight  education  education.years      marital.status  \\\n",
       "0   34      Private  209297    HS-grad                9       Never-married   \n",
       "1   32      Private  107417    HS-grad                9       Never-married   \n",
       "2   59    Local-gov  296253    Masters               14            Divorced   \n",
       "3   44  Federal-gov  102238    HS-grad                9            Divorced   \n",
       "4   43    Local-gov  163434  Bachelors               13  Married-civ-spouse   \n",
       "\n",
       "          occupation   relationship   race     sex  capital.gain  \\\n",
       "0  Machine-op-inspct  Not-in-family  Black    Male             0   \n",
       "1      Other-service  Not-in-family  White    Male             0   \n",
       "2     Prof-specialty      Unmarried  White  Female          8614   \n",
       "3       Craft-repair      Unmarried  White    Male             0   \n",
       "4    Protective-serv        Husband  White    Male             0   \n",
       "\n",
       "   capital.loss  hours.per.week native.country  income  \n",
       "0          2001              40  United-States       0  \n",
       "1             0              37  United-States       0  \n",
       "2             0              60  United-States       1  \n",
       "3             0              40  United-States       0  \n",
       "4             0              55  United-States       1  "
      ]
     },
     "execution_count": 388,
     "metadata": {},
     "output_type": "execute_result"
    }
   ],
   "source": [
    "df_clean = df.copy()\n",
    "df_clean.drop(filtered_rows.index, inplace=True)\n",
    "df_clean.reset_index(drop=True, inplace=True)\n",
    "df_clean.head()"
   ]
  },
  {
   "cell_type": "code",
   "execution_count": 389,
   "metadata": {},
   "outputs": [
    {
     "name": "stdout",
     "output_type": "stream",
     "text": [
      "age                11\n",
      "workclass          11\n",
      "weight             11\n",
      "education          11\n",
      "education.years    11\n",
      "marital.status     11\n",
      "occupation         11\n",
      "relationship       11\n",
      "race               11\n",
      "sex                11\n",
      "capital.gain       11\n",
      "capital.loss       11\n",
      "hours.per.week     11\n",
      "native.country     11\n",
      "income             11\n",
      "dtype: int64\n",
      "       age         workclass  weight     education  education.years  \\\n",
      "1911    17                 ?  806316          11th                7   \n",
      "3281    31                 ?  672412          11th                7   \n",
      "4642    36  Self-emp-not-inc  609935     Bachelors               13   \n",
      "8487    56                 ?  656036       HS-grad                9   \n",
      "9832    17                 ?  634226          10th                6   \n",
      "12003   34           Private  609789       HS-grad                9   \n",
      "12685   32                 ?  640383     Bachelors               13   \n",
      "16956   19                 ?  860348  Some-college               10   \n",
      "17807   32                 ?  981628       HS-grad                9   \n",
      "19872   32                 ?  647882       HS-grad                9   \n",
      "\n",
      "           marital.status        occupation   relationship   race     sex  \\\n",
      "1911        Never-married                 ?      Own-child  White  Female   \n",
      "3281            Separated                 ?  Not-in-family  Black    Male   \n",
      "4642   Married-civ-spouse  Transport-moving        Husband  Black    Male   \n",
      "8487   Married-civ-spouse                 ?        Husband  White    Male   \n",
      "9832        Never-married                 ?      Own-child  White  Female   \n",
      "12003  Married-civ-spouse     Other-service        Husband  White    Male   \n",
      "12685            Divorced                 ?      Unmarried  White  Female   \n",
      "16956       Never-married                 ?      Own-child  Black  Female   \n",
      "17807            Divorced                 ?      Unmarried  Black    Male   \n",
      "19872  Married-civ-spouse                 ?        Husband  White    Male   \n",
      "\n",
      "       capital.gain  capital.loss  hours.per.week native.country  income  \n",
      "1911              0             0              20  United-States       0  \n",
      "3281              0             0              40  United-States       0  \n",
      "4642              0             0              48              ?       0  \n",
      "8487              0             0              25  United-States       0  \n",
      "9832              0             0              17  United-States       0  \n",
      "12003             0             0              30              ?       0  \n",
      "12685             0             0              40  United-States       0  \n",
      "16956             0             0              25  United-States       0  \n",
      "17807             0             0              40  United-States       0  \n",
      "19872             0             0              40              ?       0  \n"
     ]
    }
   ],
   "source": [
    "df_inter = df_clean[(df_clean.isin(['?']).any(axis=1))]\n",
    "\n",
    "# Create a distribution plot for the variable 'weight'\n",
    "print(df_inter.count())\n",
    "print(df_inter.head(10))"
   ]
  },
  {
   "cell_type": "markdown",
   "metadata": {},
   "source": [
    "# Codificación de variables cualitativas"
   ]
  },
  {
   "cell_type": "code",
   "execution_count": 403,
   "metadata": {},
   "outputs": [],
   "source": [
    "# List of categorical columns\n",
    "categorical_columns = ['workclass', 'marital.status', 'occupation', 'relationship', 'race', 'sex', 'native.country']\n",
    "\n",
    "\n",
    "for x in categorical_columns:\n",
    "    unique_workclass_values = df_clean[x].unique()\n",
    "\n",
    "    # Create a dictionary mapping each unique value to a different integer\n",
    "    workclass_mapping = {value: idx for idx, value in enumerate(unique_workclass_values)}\n",
    "    workclass_mapping[\"?\"] = -1\n",
    "\n",
    "    df_clean[x] = df_clean[x].map(workclass_mapping)\n",
    "    df_clean.head()\n"
   ]
  },
  {
   "cell_type": "code",
   "execution_count": 404,
   "metadata": {
    "vscode": {
     "languageId": "ruby"
    }
   },
   "outputs": [
    {
     "data": {
      "application/vnd.microsoft.datawrangler.viewer.v0+json": {
       "columns": [
        {
         "name": "index",
         "rawType": "int64",
         "type": "integer"
        },
        {
         "name": "age",
         "rawType": "int64",
         "type": "integer"
        },
        {
         "name": "workclass",
         "rawType": "int64",
         "type": "integer"
        },
        {
         "name": "weight",
         "rawType": "int64",
         "type": "integer"
        },
        {
         "name": "education",
         "rawType": "int64",
         "type": "integer"
        },
        {
         "name": "education.years",
         "rawType": "int64",
         "type": "integer"
        },
        {
         "name": "marital.status",
         "rawType": "int64",
         "type": "integer"
        },
        {
         "name": "occupation",
         "rawType": "int64",
         "type": "integer"
        },
        {
         "name": "relationship",
         "rawType": "int64",
         "type": "integer"
        },
        {
         "name": "race",
         "rawType": "int64",
         "type": "integer"
        },
        {
         "name": "sex",
         "rawType": "int64",
         "type": "integer"
        },
        {
         "name": "capital.gain",
         "rawType": "int64",
         "type": "integer"
        },
        {
         "name": "capital.loss",
         "rawType": "int64",
         "type": "integer"
        },
        {
         "name": "hours.per.week",
         "rawType": "int64",
         "type": "integer"
        },
        {
         "name": "native.country",
         "rawType": "int64",
         "type": "integer"
        },
        {
         "name": "income",
         "rawType": "int64",
         "type": "integer"
        }
       ],
       "conversionMethod": "pd.DataFrame",
       "ref": "59dba311-2828-48b6-9040-8ae2f045ebeb",
       "rows": [
        [
         "0",
         "34",
         "0",
         "209297",
         "0",
         "9",
         "0",
         "0",
         "0",
         "0",
         "0",
         "0",
         "2001",
         "40",
         "0",
         "0"
        ],
        [
         "1",
         "32",
         "0",
         "107417",
         "0",
         "9",
         "0",
         "1",
         "0",
         "1",
         "0",
         "0",
         "0",
         "37",
         "0",
         "0"
        ],
        [
         "2",
         "59",
         "1",
         "296253",
         "1",
         "14",
         "1",
         "2",
         "1",
         "1",
         "1",
         "8614",
         "0",
         "60",
         "0",
         "1"
        ],
        [
         "3",
         "44",
         "2",
         "102238",
         "0",
         "9",
         "1",
         "3",
         "1",
         "1",
         "0",
         "0",
         "0",
         "40",
         "0",
         "0"
        ],
        [
         "4",
         "43",
         "1",
         "163434",
         "2",
         "13",
         "2",
         "4",
         "2",
         "1",
         "0",
         "0",
         "0",
         "55",
         "0",
         "1"
        ]
       ],
       "shape": {
        "columns": 15,
        "rows": 5
       }
      },
      "text/html": [
       "<div>\n",
       "<style scoped>\n",
       "    .dataframe tbody tr th:only-of-type {\n",
       "        vertical-align: middle;\n",
       "    }\n",
       "\n",
       "    .dataframe tbody tr th {\n",
       "        vertical-align: top;\n",
       "    }\n",
       "\n",
       "    .dataframe thead th {\n",
       "        text-align: right;\n",
       "    }\n",
       "</style>\n",
       "<table border=\"1\" class=\"dataframe\">\n",
       "  <thead>\n",
       "    <tr style=\"text-align: right;\">\n",
       "      <th></th>\n",
       "      <th>age</th>\n",
       "      <th>workclass</th>\n",
       "      <th>weight</th>\n",
       "      <th>education</th>\n",
       "      <th>education.years</th>\n",
       "      <th>marital.status</th>\n",
       "      <th>occupation</th>\n",
       "      <th>relationship</th>\n",
       "      <th>race</th>\n",
       "      <th>sex</th>\n",
       "      <th>capital.gain</th>\n",
       "      <th>capital.loss</th>\n",
       "      <th>hours.per.week</th>\n",
       "      <th>native.country</th>\n",
       "      <th>income</th>\n",
       "    </tr>\n",
       "  </thead>\n",
       "  <tbody>\n",
       "    <tr>\n",
       "      <th>0</th>\n",
       "      <td>34</td>\n",
       "      <td>0</td>\n",
       "      <td>209297</td>\n",
       "      <td>0</td>\n",
       "      <td>9</td>\n",
       "      <td>0</td>\n",
       "      <td>0</td>\n",
       "      <td>0</td>\n",
       "      <td>0</td>\n",
       "      <td>0</td>\n",
       "      <td>0</td>\n",
       "      <td>2001</td>\n",
       "      <td>40</td>\n",
       "      <td>0</td>\n",
       "      <td>0</td>\n",
       "    </tr>\n",
       "    <tr>\n",
       "      <th>1</th>\n",
       "      <td>32</td>\n",
       "      <td>0</td>\n",
       "      <td>107417</td>\n",
       "      <td>0</td>\n",
       "      <td>9</td>\n",
       "      <td>0</td>\n",
       "      <td>1</td>\n",
       "      <td>0</td>\n",
       "      <td>1</td>\n",
       "      <td>0</td>\n",
       "      <td>0</td>\n",
       "      <td>0</td>\n",
       "      <td>37</td>\n",
       "      <td>0</td>\n",
       "      <td>0</td>\n",
       "    </tr>\n",
       "    <tr>\n",
       "      <th>2</th>\n",
       "      <td>59</td>\n",
       "      <td>1</td>\n",
       "      <td>296253</td>\n",
       "      <td>1</td>\n",
       "      <td>14</td>\n",
       "      <td>1</td>\n",
       "      <td>2</td>\n",
       "      <td>1</td>\n",
       "      <td>1</td>\n",
       "      <td>1</td>\n",
       "      <td>8614</td>\n",
       "      <td>0</td>\n",
       "      <td>60</td>\n",
       "      <td>0</td>\n",
       "      <td>1</td>\n",
       "    </tr>\n",
       "    <tr>\n",
       "      <th>3</th>\n",
       "      <td>44</td>\n",
       "      <td>2</td>\n",
       "      <td>102238</td>\n",
       "      <td>0</td>\n",
       "      <td>9</td>\n",
       "      <td>1</td>\n",
       "      <td>3</td>\n",
       "      <td>1</td>\n",
       "      <td>1</td>\n",
       "      <td>0</td>\n",
       "      <td>0</td>\n",
       "      <td>0</td>\n",
       "      <td>40</td>\n",
       "      <td>0</td>\n",
       "      <td>0</td>\n",
       "    </tr>\n",
       "    <tr>\n",
       "      <th>4</th>\n",
       "      <td>43</td>\n",
       "      <td>1</td>\n",
       "      <td>163434</td>\n",
       "      <td>2</td>\n",
       "      <td>13</td>\n",
       "      <td>2</td>\n",
       "      <td>4</td>\n",
       "      <td>2</td>\n",
       "      <td>1</td>\n",
       "      <td>0</td>\n",
       "      <td>0</td>\n",
       "      <td>0</td>\n",
       "      <td>55</td>\n",
       "      <td>0</td>\n",
       "      <td>1</td>\n",
       "    </tr>\n",
       "  </tbody>\n",
       "</table>\n",
       "</div>"
      ],
      "text/plain": [
       "   age  workclass  weight  education  education.years  marital.status  \\\n",
       "0   34          0  209297          0                9               0   \n",
       "1   32          0  107417          0                9               0   \n",
       "2   59          1  296253          1               14               1   \n",
       "3   44          2  102238          0                9               1   \n",
       "4   43          1  163434          2               13               2   \n",
       "\n",
       "   occupation  relationship  race  sex  capital.gain  capital.loss  \\\n",
       "0           0             0     0    0             0          2001   \n",
       "1           1             0     1    0             0             0   \n",
       "2           2             1     1    1          8614             0   \n",
       "3           3             1     1    0             0             0   \n",
       "4           4             2     1    0             0             0   \n",
       "\n",
       "   hours.per.week  native.country  income  \n",
       "0              40               0       0  \n",
       "1              37               0       0  \n",
       "2              60               0       1  \n",
       "3              40               0       0  \n",
       "4              55               0       1  "
      ]
     },
     "execution_count": 404,
     "metadata": {},
     "output_type": "execute_result"
    }
   ],
   "source": [
    "# Get unique values in the 'workclass' column\n",
    "unique_education_values = df_clean['education'].unique()\n",
    "\n",
    "# Create a dictionary mapping each unique value to a different integer\n",
    "education_mapping = {value: idx for idx, value in enumerate(unique_education_values)}\n",
    "education_mapping[\"Preschool\"] = 0\n",
    "education_mapping[\"1st-4th\"] = 1\n",
    "education_mapping[\"5th-6th\"] = 2\n",
    "education_mapping[\"7th-8th\"] = 3\n",
    "education_mapping[\"9th\"] = 4\n",
    "education_mapping[\"10th\"] = 5\n",
    "education_mapping[\"11th\"] = 6\n",
    "education_mapping[\"12th\"] = 7\n",
    "education_mapping[\"HS-grad\"] = 8\n",
    "education_mapping[\"Prof-school\"] = 9\n",
    "education_mapping[\"Some-college\"] = 10\n",
    "education_mapping[\"Assoc-acdm\"] = 11\n",
    "education_mapping[\"Assoc-voc\"] = 12\n",
    "education_mapping[\"Bachelors\"] = 13\n",
    "education_mapping[\"Masters\"] = 14\n",
    "education_mapping[\"Doctorate\"] = 15\n",
    "education_mapping[\"?\"] = -1\n",
    "\n",
    "df_clean['education'] = df_clean['education'].map(education_mapping)\n",
    "df_clean.head()"
   ]
  },
  {
   "cell_type": "markdown",
   "metadata": {},
   "source": [
    "# marital.status"
   ]
  },
  {
   "cell_type": "code",
   "execution_count": 395,
   "metadata": {
    "vscode": {
     "languageId": "ruby"
    }
   },
   "outputs": [
    {
     "name": "stdout",
     "output_type": "stream",
     "text": [
      "Distribution of marital.status:\n",
      "marital.status\n",
      "Married-civ-spouse       12660\n",
      "Never-married             8714\n",
      "Divorced                  3817\n",
      "Separated                  844\n",
      "Widowed                    751\n",
      "Married-spouse-absent      328\n",
      "Married-AF-spouse           18\n",
      "Name: count, dtype: int64\n"
     ]
    }
   ],
   "source": [
    "colun = categorical_columns[2]\n",
    "\n",
    "print(f\"Distribution of {colun}:\")\n",
    "print(df_clean[colun].value_counts())"
   ]
  },
  {
   "cell_type": "code",
   "execution_count": 400,
   "metadata": {
    "vscode": {
     "languageId": "ruby"
    }
   },
   "outputs": [
    {
     "data": {
      "application/vnd.microsoft.datawrangler.viewer.v0+json": {
       "columns": [
        {
         "name": "index",
         "rawType": "int64",
         "type": "integer"
        },
        {
         "name": "age",
         "rawType": "int64",
         "type": "integer"
        },
        {
         "name": "workclass",
         "rawType": "int64",
         "type": "integer"
        },
        {
         "name": "weight",
         "rawType": "int64",
         "type": "integer"
        },
        {
         "name": "education",
         "rawType": "int64",
         "type": "integer"
        },
        {
         "name": "education.years",
         "rawType": "int64",
         "type": "integer"
        },
        {
         "name": "marital.status",
         "rawType": "int64",
         "type": "integer"
        },
        {
         "name": "occupation",
         "rawType": "object",
         "type": "string"
        },
        {
         "name": "relationship",
         "rawType": "object",
         "type": "string"
        },
        {
         "name": "race",
         "rawType": "object",
         "type": "string"
        },
        {
         "name": "sex",
         "rawType": "object",
         "type": "string"
        },
        {
         "name": "capital.gain",
         "rawType": "int64",
         "type": "integer"
        },
        {
         "name": "capital.loss",
         "rawType": "int64",
         "type": "integer"
        },
        {
         "name": "hours.per.week",
         "rawType": "int64",
         "type": "integer"
        },
        {
         "name": "native.country",
         "rawType": "object",
         "type": "string"
        },
        {
         "name": "income",
         "rawType": "int64",
         "type": "integer"
        }
       ],
       "conversionMethod": "pd.DataFrame",
       "ref": "868dcdcf-dd22-46e5-9753-697e214cfd15",
       "rows": [
        [
         "0",
         "34",
         "0",
         "209297",
         "8",
         "9",
         "0",
         "Machine-op-inspct",
         "Not-in-family",
         "Black",
         "Male",
         "0",
         "2001",
         "40",
         "United-States",
         "0"
        ],
        [
         "1",
         "32",
         "0",
         "107417",
         "8",
         "9",
         "0",
         "Other-service",
         "Not-in-family",
         "White",
         "Male",
         "0",
         "0",
         "37",
         "United-States",
         "0"
        ],
        [
         "2",
         "59",
         "1",
         "296253",
         "14",
         "14",
         "1",
         "Prof-specialty",
         "Unmarried",
         "White",
         "Female",
         "8614",
         "0",
         "60",
         "United-States",
         "1"
        ],
        [
         "3",
         "44",
         "2",
         "102238",
         "8",
         "9",
         "1",
         "Craft-repair",
         "Unmarried",
         "White",
         "Male",
         "0",
         "0",
         "40",
         "United-States",
         "0"
        ],
        [
         "4",
         "43",
         "1",
         "163434",
         "13",
         "13",
         "2",
         "Protective-serv",
         "Husband",
         "White",
         "Male",
         "0",
         "0",
         "55",
         "United-States",
         "1"
        ]
       ],
       "shape": {
        "columns": 15,
        "rows": 5
       }
      },
      "text/html": [
       "<div>\n",
       "<style scoped>\n",
       "    .dataframe tbody tr th:only-of-type {\n",
       "        vertical-align: middle;\n",
       "    }\n",
       "\n",
       "    .dataframe tbody tr th {\n",
       "        vertical-align: top;\n",
       "    }\n",
       "\n",
       "    .dataframe thead th {\n",
       "        text-align: right;\n",
       "    }\n",
       "</style>\n",
       "<table border=\"1\" class=\"dataframe\">\n",
       "  <thead>\n",
       "    <tr style=\"text-align: right;\">\n",
       "      <th></th>\n",
       "      <th>age</th>\n",
       "      <th>workclass</th>\n",
       "      <th>weight</th>\n",
       "      <th>education</th>\n",
       "      <th>education.years</th>\n",
       "      <th>marital.status</th>\n",
       "      <th>occupation</th>\n",
       "      <th>relationship</th>\n",
       "      <th>race</th>\n",
       "      <th>sex</th>\n",
       "      <th>capital.gain</th>\n",
       "      <th>capital.loss</th>\n",
       "      <th>hours.per.week</th>\n",
       "      <th>native.country</th>\n",
       "      <th>income</th>\n",
       "    </tr>\n",
       "  </thead>\n",
       "  <tbody>\n",
       "    <tr>\n",
       "      <th>0</th>\n",
       "      <td>34</td>\n",
       "      <td>0</td>\n",
       "      <td>209297</td>\n",
       "      <td>8</td>\n",
       "      <td>9</td>\n",
       "      <td>0</td>\n",
       "      <td>Machine-op-inspct</td>\n",
       "      <td>Not-in-family</td>\n",
       "      <td>Black</td>\n",
       "      <td>Male</td>\n",
       "      <td>0</td>\n",
       "      <td>2001</td>\n",
       "      <td>40</td>\n",
       "      <td>United-States</td>\n",
       "      <td>0</td>\n",
       "    </tr>\n",
       "    <tr>\n",
       "      <th>1</th>\n",
       "      <td>32</td>\n",
       "      <td>0</td>\n",
       "      <td>107417</td>\n",
       "      <td>8</td>\n",
       "      <td>9</td>\n",
       "      <td>0</td>\n",
       "      <td>Other-service</td>\n",
       "      <td>Not-in-family</td>\n",
       "      <td>White</td>\n",
       "      <td>Male</td>\n",
       "      <td>0</td>\n",
       "      <td>0</td>\n",
       "      <td>37</td>\n",
       "      <td>United-States</td>\n",
       "      <td>0</td>\n",
       "    </tr>\n",
       "    <tr>\n",
       "      <th>2</th>\n",
       "      <td>59</td>\n",
       "      <td>1</td>\n",
       "      <td>296253</td>\n",
       "      <td>14</td>\n",
       "      <td>14</td>\n",
       "      <td>1</td>\n",
       "      <td>Prof-specialty</td>\n",
       "      <td>Unmarried</td>\n",
       "      <td>White</td>\n",
       "      <td>Female</td>\n",
       "      <td>8614</td>\n",
       "      <td>0</td>\n",
       "      <td>60</td>\n",
       "      <td>United-States</td>\n",
       "      <td>1</td>\n",
       "    </tr>\n",
       "    <tr>\n",
       "      <th>3</th>\n",
       "      <td>44</td>\n",
       "      <td>2</td>\n",
       "      <td>102238</td>\n",
       "      <td>8</td>\n",
       "      <td>9</td>\n",
       "      <td>1</td>\n",
       "      <td>Craft-repair</td>\n",
       "      <td>Unmarried</td>\n",
       "      <td>White</td>\n",
       "      <td>Male</td>\n",
       "      <td>0</td>\n",
       "      <td>0</td>\n",
       "      <td>40</td>\n",
       "      <td>United-States</td>\n",
       "      <td>0</td>\n",
       "    </tr>\n",
       "    <tr>\n",
       "      <th>4</th>\n",
       "      <td>43</td>\n",
       "      <td>1</td>\n",
       "      <td>163434</td>\n",
       "      <td>13</td>\n",
       "      <td>13</td>\n",
       "      <td>2</td>\n",
       "      <td>Protective-serv</td>\n",
       "      <td>Husband</td>\n",
       "      <td>White</td>\n",
       "      <td>Male</td>\n",
       "      <td>0</td>\n",
       "      <td>0</td>\n",
       "      <td>55</td>\n",
       "      <td>United-States</td>\n",
       "      <td>1</td>\n",
       "    </tr>\n",
       "  </tbody>\n",
       "</table>\n",
       "</div>"
      ],
      "text/plain": [
       "   age  workclass  weight  education  education.years  marital.status  \\\n",
       "0   34          0  209297          8                9               0   \n",
       "1   32          0  107417          8                9               0   \n",
       "2   59          1  296253         14               14               1   \n",
       "3   44          2  102238          8                9               1   \n",
       "4   43          1  163434         13               13               2   \n",
       "\n",
       "          occupation   relationship   race     sex  capital.gain  \\\n",
       "0  Machine-op-inspct  Not-in-family  Black    Male             0   \n",
       "1      Other-service  Not-in-family  White    Male             0   \n",
       "2     Prof-specialty      Unmarried  White  Female          8614   \n",
       "3       Craft-repair      Unmarried  White    Male             0   \n",
       "4    Protective-serv        Husband  White    Male             0   \n",
       "\n",
       "   capital.loss  hours.per.week native.country  income  \n",
       "0          2001              40  United-States       0  \n",
       "1             0              37  United-States       0  \n",
       "2             0              60  United-States       1  \n",
       "3             0              40  United-States       0  \n",
       "4             0              55  United-States       1  "
      ]
     },
     "execution_count": 400,
     "metadata": {},
     "output_type": "execute_result"
    }
   ],
   "source": [
    "# Get unique values in the 'workclass' column\n",
    "unique_workclass_values = df_clean['marital.status'].unique()\n",
    "\n",
    "# Create a dictionary mapping each unique value to a different integer\n",
    "workclass_mapping = {value: idx for idx, value in enumerate(unique_workclass_values)}\n",
    "workclass_mapping[\"?\"] = -1\n",
    "\n",
    "df_clean['marital.status'] = df_clean['marital.status'].map(workclass_mapping)\n",
    "df_clean.head()"
   ]
  },
  {
   "cell_type": "code",
   "execution_count": null,
   "metadata": {
    "vscode": {
     "languageId": "ruby"
    }
   },
   "outputs": [],
   "source": [
    "colun = categorical_columns[2]\n",
    "\n",
    "print(f\"Distribution of {colun}:\")\n",
    "print(df_clean[colun].value_counts())"
   ]
  },
  {
   "cell_type": "code",
   "execution_count": null,
   "metadata": {
    "vscode": {
     "languageId": "ruby"
    }
   },
   "outputs": [],
   "source": []
  },
  {
   "cell_type": "code",
   "execution_count": null,
   "metadata": {
    "vscode": {
     "languageId": "ruby"
    }
   },
   "outputs": [],
   "source": []
  },
  {
   "cell_type": "code",
   "execution_count": 397,
   "metadata": {
    "vscode": {
     "languageId": "ruby"
    }
   },
   "outputs": [
    {
     "name": "stdout",
     "output_type": "stream",
     "text": [
      "['age', 'weight', 'education.years', 'capital.gain', 'capital.loss', 'hours.per.week', 'income']\n"
     ]
    }
   ],
   "source": [
    "numerical_columns_df_clean = df_clean.select_dtypes(include=['int64', 'float64']).columns.tolist()\n",
    "numerical_columns_df_clean.remove('education')\n",
    "numerical_columns_df_clean.remove('workclass')\n",
    "print(numerical_columns_df_clean)\n"
   ]
  },
  {
   "cell_type": "code",
   "execution_count": null,
   "metadata": {
    "vscode": {
     "languageId": "ruby"
    }
   },
   "outputs": [
    {
     "data": {
      "image/png": "[encoded data removed]",
      "text/plain": [
       "<Figure size 1200x800 with 2 Axes>"
      ]
     },
     "metadata": {},
     "output_type": "display_data"
    }
   ],
   "source": [
    "# Filter the DataFrame to include only numerical columns\n",
    "numerical_df = df_clean[numerical_columns_df_clean]\n",
    "\n",
    "# Compute the correlation matrix\n",
    "correlation_matrix = numerical_df.corr()\n",
    "\n",
    "plt.figure(figsize=(12, 8))\n",
    "sns.heatmap(correlation_matrix, annot=True, cmap='coolwarm', fmt='.2f')\n",
    "plt.title('Correlation Matrix')\n",
    "plt.show()"
   ]
  },
  {
   "cell_type": "code",
   "execution_count": 405,
   "metadata": {
    "vscode": {
     "languageId": "ruby"
    }
   },
   "outputs": [
    {
     "data": {
      "image/png": "[encoded data removed]",
      "text/plain": [
       "<Figure size 1200x800 with 2 Axes>"
      ]
     },
     "metadata": {},
     "output_type": "display_data"
    }
   ],
   "source": [
    "# Compute the correlation matrix\n",
    "correlation_matrix = df_clean.corr()\n",
    "\n",
    "plt.figure(figsize=(12, 8))\n",
    "sns.heatmap(correlation_matrix, annot=True, cmap='coolwarm', fmt='.2f')\n",
    "plt.title('Correlation Matrix')\n",
    "plt.show()"
   ]
  },
  {
   "cell_type": "code",
   "execution_count": null,
   "metadata": {
    "vscode": {
     "languageId": "ruby"
    }
   },
   "outputs": [],
   "source": []
  }
 ],
 "metadata": {
  "kernelspec": {
   "display_name": ".venv",
   "language": "python",
   "name": "python3"
  },
  "language_info": {
   "codemirror_mode": {
    "name": "ipython",
    "version": 3
   },
   "file_extension": ".py",
   "mimetype": "text/x-python",
   "name": "python",
   "nbconvert_exporter": "python",
   "pygments_lexer": "ipython3",
   "version": "3.13.2"
  }
 },
 "nbformat": 4,
 "nbformat_minor": 2
}
